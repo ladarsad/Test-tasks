{
 "cells": [
  {
   "cell_type": "markdown",
   "metadata": {},
   "source": [
    "# Тестовое задание"
   ]
  },
  {
   "cell_type": "markdown",
   "metadata": {},
   "source": [
    "Известная компания Тындекс в очередной раз проводит набор стажёров.\n",
    "Заботясь о персональных данных соискателей, компания придумала хитрый алгоритм шифрования:\n",
    "\n",
    "- Подсчитывается количество различных символов в ФИО (регистр важен, А и а — разные символы).\n",
    "- Берётся сумма цифр в дне и месяце рождения, умноженная на 64.\n",
    "- Для первой (по позиции в слове) буквы фамилии определяется её номер в алфавите (в 1-индексации), умноженный на 256 (регистр буквы не важен).\n",
    "- Полученные числа суммируются.\n",
    "- Результат переводится в 16-чную систему счисления (в верхнем регистре).\n",
    "- У результата сохраняются только 3 младших разряда (если значимых разрядов меньше, то шифр дополняется до 3-х разрядов ведущими нулями).\n",
    "\n",
    "Ваша задача — помочь вычислить для каждого кандидата его шифр."
   ]
  },
  {
   "cell_type": "markdown",
   "metadata": {},
   "source": [
    "##### Формат ввода\n",
    "В первой строке вводится число N — количество кандидатов и шифров.\n",
    "Далее следует N строк в формате CSV (fj,ij,oj,dj,mj,yj) — информация о кандидатах:\n",
    "\n",
    "- Фамилия fj, имя ij и отчество oj — строки, состоящие из латинских букв верхнего и нижнего регистра;\n",
    "- День рождения dj, месяц рождения mj и год рождения yj — целые числа, задающие корректную дату в промежутке от 1 января 1950 года до 31 декабря 2021 года.\n",
    "\n",
    "##### Формат вывода\n",
    "В единственной строке выведите N строк k1,…,kN, где kj — шифр j-го кандидата (в верхнем регистре). Кандидаты нумеруются с 1 до N в порядке ввода."
   ]
  },
  {
   "cell_type": "code",
   "execution_count": 177,
   "metadata": {},
   "outputs": [
    {
     "name": "stdout",
     "output_type": "stream",
     "text": [
      "2\n",
      "Segalovich,Ilya,Valentinovich,13,9,1964\n",
      "Volozh,Arcady,Yurievich,11,2,1964\n",
      "64F 710\n"
     ]
    }
   ],
   "source": [
    "N = int(input())\n",
    "\n",
    "people = []\n",
    "for i in range(N):\n",
    "    person = list(input().split(','))\n",
    "    people.append(person)\n",
    "\n",
    "\n",
    "def numbersum(num):\n",
    "    sum = 0\n",
    "    while (num != 0):\n",
    "        sum = sum + num % 10\n",
    "        num = num // 10\n",
    "    return sum\n",
    "\n",
    "def letternum(letter):\n",
    "    letter = letter.lower()\n",
    "    alphabet = list('abcdefghijklmnopqrstuvwxyz')\n",
    "    return alphabet.index(letter) + 1\n",
    "\n",
    "def crypt(people, N):\n",
    "    codes = []\n",
    "    for i in range(N):\n",
    "        person = people[i]\n",
    "        step1 = len(set(person[0]+person[1]+person[2]))\n",
    "        step2 = (numbersum(int(person[3])) + numbersum(int(person[4]))) * 64\n",
    "        step3 = letternum(person[0][0]) * 256\n",
    "        step4 = step1 + step2 + step3\n",
    "        step5 = str(hex(step4))[2:].upper()\n",
    "        step6 = ('000' + step5)[-3:]\n",
    "        codes.append(step6)\n",
    "    return codes\n",
    "\n",
    "print(*crypt(people,N))"
   ]
  },
  {
   "cell_type": "markdown",
   "metadata": {},
   "source": [
    "Известная компания Тындекс идёт в ногу со временем — с началом активных космических перелётов в компании открылся сервис Тындекс.Ракетакси: пользователю необходимо лишь указать координаты начала и конца перелёта, после чего за ним вылетит персональная ракета.\n",
    "По сути любой заказ можно описать в виде событий четырёх типов:\n",
    "\n",
    "- A (accepted) - заказ принят в работу (ракета вылетела за клиентом);\n",
    "- B (boarding) - клиент сел в ракету;\n",
    "- S (success) - заказ успешно завершён (клиент вышел на планете назначения);\n",
    "- C (cancelled) - заказ отменён.\n",
    "\n",
    "Все происходящие с ракетами события отправляются на сервера, где сразу логируются. Вот только из-за проблем со связью (метеоритные потоки, вспышки на звездах и т.д.) отправка событий иногда затягивается, из-за чего записи в получившемся логе могут идти не по порядку.\n",
    "\n",
    "Гарантируется, что все описанные в логе события задают один из следующих сценариев:\n",
    "\n",
    "- A - B - S\n",
    "- A - B - C\n",
    "- A - C\n",
    "\n",
    "Вам, как главному аналитику (и по совместительству главному программисту) ракетопарка, необходимо исследовать лог за прошедший год и определить для каждой ракеты суммарное время движения (в минутах) в течение заказов.\n",
    "\n",
    "В каждый момент времени ракета выполняет только один заказ. Будем считать, что каждая ракета в каждый момент времени:\n",
    "\n",
    "- или стоит на месте в ожидании заказа,\n",
    "- или перемещается по космосу, выполняя заказ.\n",
    "\n",
    "Движение начинается после принятия заказа и завершается после отмены или завершения заказа. За одну минуту не может произойти несколько событий, связанных с одной и той же ракетой."
   ]
  },
  {
   "cell_type": "markdown",
   "metadata": {},
   "source": [
    "##### Формат ввода\n",
    "В первой строке дано целое число N — количество записей в логе.\n",
    "Следующие N строк содержат записи в логе в формате day hour minute id status:\n",
    "\n",
    "- day — номер дня (сквозная нумерация с начала календарного года);\n",
    "- hour — часы;\n",
    "- minute — минуты;\n",
    "- id — уникальный идентификатор ракеты;\n",
    "- status  — буква, обозначающая тип события.\n",
    "\n",
    "##### Формат вывода\n",
    "В строке выведите суммарное время движения на заказах для каждой упомянутой в логе ракеты. Данные необходимо выводить в порядке возрастания идентификаторов ракет."
   ]
  },
  {
   "cell_type": "code",
   "execution_count": 26,
   "metadata": {
    "scrolled": true
   },
   "outputs": [
    {
     "name": "stdout",
     "output_type": "stream",
     "text": [
      "4\n",
      "50 7 26 3632 C\n",
      "50 7 25 3632 A\n",
      "14 23 52 212372 S\n",
      "14 21 30 212372 A\n",
      "['212372', '3632']\n",
      "{'212372': 143, '3632': 1}\n"
     ]
    }
   ],
   "source": [
    "N = int(input())\n",
    "\n",
    "log = []\n",
    "for i in range(N):\n",
    "    event = list(input().split())\n",
    "    log.append({'day':event[0], 'hour':event[1], 'minute':event[2], 'id':event[3], 'status':event[4]})\n",
    "\n",
    "log = sorted(log, key=lambda x: (x['id'], x['day'], x['hour'],x ['minute'], x['status']))    \n",
    "\n",
    "def uniquerockets(log):\n",
    "    res = []\n",
    "    for val in log:\n",
    "        if val['id'] not in res:\n",
    "            res.append(val['id'])\n",
    "    return res\n",
    "\n",
    "def delta(left,right):\n",
    "    res = ((right[0] - left[0]) * 24 - left[1] + right[1]) * 60 - left[2] + right[2]\n",
    "    return res\n",
    "\n",
    "def time(log):\n",
    "    rockets = uniquerockets(log)\n",
    "    results = {}\n",
    "    results.fromkeys(rockets)\n",
    "    st = 0\n",
    "    for rocket in rockets:\n",
    "        timesum = 0\n",
    "        for i in range(st,len(log)):\n",
    "            if log[i]['status'] == 'A':\n",
    "                left = [int(log[i]['day']), int(log[i]['hour']), int(log[i]['minute'])]\n",
    "            if log[i]['status'] == 'S' or log[i]['status'] == 'C':\n",
    "                right = [int(log[i]['day']), int(log[i]['hour']), int(log[i]['minute'])]\n",
    "                timesum += delta(left,right)\n",
    "            st = i\n",
    "        results[rocket] = timesum\n",
    "    return results      \n",
    "\n",
    "print(time(log))"
   ]
  },
  {
   "cell_type": "markdown",
   "metadata": {},
   "source": [
    "На рынке зелий произошёл бум и практически в каждом доме появилась своя алхимическая лаборатория. Ресурсы подобных индивидуальных предпринимателей невелики, и их инструментарий сильно ограничен. В результате долгих экспериментов были открыты два универсальных ингредиента для зелий (назовем их A и B), которые оказались доступны любому начинающему алхимику.\n",
    "\n",
    "Отныне рецепт любого зелья можно свести к этим двум компонентам - зелье состоит из чистых ингредиентов A и/или B, из других зелий или из смеси чистых ингредиентов и зелий.\n",
    "\n",
    "Одно зелье может требовать несколько экземпляров одного и того же ингредиента / зелья.\n",
    "\n",
    "Ваш близкий друг Тирания Вампадур только начинает свой путь в алхимии и каждый день задаёт вам Q вопросов вида: если в её подвале осталось X единиц ингредиента A и Y единиц ингредиента B, может ли она изготовить один пузырёк зелья номер S?\n",
    "Для облегчения своей жизни, вы решаете написать программу, отвечающую на подобные вопросы и подарить её Тирании.\n",
    "\n",
    "Важно отметить, что некоторые рецепты были записаны со слов почётных алхимиков города, чья память знавала и лучшие времена. Поэтому рецепты для некоторых зелий могут быть записаны неправильно и содержать циклы — такие зелья изготовить никак нельзя."
   ]
  },
  {
   "cell_type": "markdown",
   "metadata": {},
   "source": [
    "##### Формат ввода\n",
    "В первой строке дано число N — общее количество ингредиентов и рецептов производных зелий. Ингредиент A имеет номер 1, B — номер 2, все производные зелья пронумерованы от 3 до N.\n",
    "\n",
    "Следующие N−2 строк содержат информацию о создании зелий: в i-й строке содержится список составных частей для зелья i+2.\n",
    "Первое число в строке Ki — количество составных частей. Далее через пробел следуют Ki чисел — номера составных частей для изготовления зелья i+2.\n",
    "Составные части в строке могут повторяться — каждая часть учитывается столько раз, сколько указана.\n",
    "\n",
    "В следующей строке задано одно целое число Q — количество вопросов Тирании.\n",
    "Каждый вопрос задаётся в отдельной строке в формате XYS — количество ингредиентов A и B в подвале соответственно, а также номер запрашиваемого для изготовления зелья.\n",
    "\n",
    "##### Формат вывода\n",
    "В единственной строке выведите строку из Q символов:\n",
    "- 1, если можно изготовить зелье из имеющегося количества ингредиентов;\n",
    "- 0 в любом ином случае."
   ]
  },
  {
   "cell_type": "code",
   "execution_count": 16,
   "metadata": {},
   "outputs": [
    {
     "name": "stdout",
     "output_type": "stream",
     "text": [
      "7\n",
      "3 1 1 2\n",
      "2 1 3\n",
      "3 4 3 4\n",
      "1 7\n",
      "1 6\n",
      "[7] [6]\n"
     ]
    },
    {
     "ename": "KeyboardInterrupt",
     "evalue": "Interrupted by user",
     "output_type": "error",
     "traceback": [
      "\u001b[1;31m---------------------------------------------------------------------------\u001b[0m",
      "\u001b[1;31mKeyboardInterrupt\u001b[0m                         Traceback (most recent call last)",
      "\u001b[1;32m<ipython-input-16-97067e80d2ff>\u001b[0m in \u001b[0;36m<module>\u001b[1;34m\u001b[0m\n\u001b[0;32m     17\u001b[0m \u001b[1;33m\u001b[0m\u001b[0m\n\u001b[0;32m     18\u001b[0m \u001b[1;33m\u001b[0m\u001b[0m\n\u001b[1;32m---> 19\u001b[1;33m \u001b[0mQ\u001b[0m \u001b[1;33m=\u001b[0m \u001b[0mint\u001b[0m\u001b[1;33m(\u001b[0m\u001b[0minput\u001b[0m\u001b[1;33m(\u001b[0m\u001b[1;33m)\u001b[0m\u001b[1;33m)\u001b[0m\u001b[1;33m\u001b[0m\u001b[1;33m\u001b[0m\u001b[0m\n\u001b[0m\u001b[0;32m     20\u001b[0m \u001b[0mquestions\u001b[0m \u001b[1;33m=\u001b[0m \u001b[1;33m[\u001b[0m\u001b[1;33m]\u001b[0m\u001b[1;33m\u001b[0m\u001b[1;33m\u001b[0m\u001b[0m\n\u001b[0;32m     21\u001b[0m \u001b[1;32mfor\u001b[0m \u001b[0mi\u001b[0m \u001b[1;32min\u001b[0m \u001b[0mrange\u001b[0m\u001b[1;33m(\u001b[0m\u001b[0mQ\u001b[0m\u001b[1;33m)\u001b[0m\u001b[1;33m:\u001b[0m\u001b[1;33m\u001b[0m\u001b[1;33m\u001b[0m\u001b[0m\n",
      "\u001b[1;32m~\\anaconda3\\lib\\site-packages\\ipykernel\\kernelbase.py\u001b[0m in \u001b[0;36mraw_input\u001b[1;34m(self, prompt)\u001b[0m\n\u001b[0;32m    858\u001b[0m                 \u001b[1;34m\"raw_input was called, but this frontend does not support input requests.\"\u001b[0m\u001b[1;33m\u001b[0m\u001b[1;33m\u001b[0m\u001b[0m\n\u001b[0;32m    859\u001b[0m             )\n\u001b[1;32m--> 860\u001b[1;33m         return self._input_request(str(prompt),\n\u001b[0m\u001b[0;32m    861\u001b[0m             \u001b[0mself\u001b[0m\u001b[1;33m.\u001b[0m\u001b[0m_parent_ident\u001b[0m\u001b[1;33m,\u001b[0m\u001b[1;33m\u001b[0m\u001b[1;33m\u001b[0m\u001b[0m\n\u001b[0;32m    862\u001b[0m             \u001b[0mself\u001b[0m\u001b[1;33m.\u001b[0m\u001b[0m_parent_header\u001b[0m\u001b[1;33m,\u001b[0m\u001b[1;33m\u001b[0m\u001b[1;33m\u001b[0m\u001b[0m\n",
      "\u001b[1;32m~\\anaconda3\\lib\\site-packages\\ipykernel\\kernelbase.py\u001b[0m in \u001b[0;36m_input_request\u001b[1;34m(self, prompt, ident, parent, password)\u001b[0m\n\u001b[0;32m    902\u001b[0m             \u001b[1;32mexcept\u001b[0m \u001b[0mKeyboardInterrupt\u001b[0m\u001b[1;33m:\u001b[0m\u001b[1;33m\u001b[0m\u001b[1;33m\u001b[0m\u001b[0m\n\u001b[0;32m    903\u001b[0m                 \u001b[1;31m# re-raise KeyboardInterrupt, to truncate traceback\u001b[0m\u001b[1;33m\u001b[0m\u001b[1;33m\u001b[0m\u001b[1;33m\u001b[0m\u001b[0m\n\u001b[1;32m--> 904\u001b[1;33m                 \u001b[1;32mraise\u001b[0m \u001b[0mKeyboardInterrupt\u001b[0m\u001b[1;33m(\u001b[0m\u001b[1;34m\"Interrupted by user\"\u001b[0m\u001b[1;33m)\u001b[0m \u001b[1;32mfrom\u001b[0m \u001b[1;32mNone\u001b[0m\u001b[1;33m\u001b[0m\u001b[1;33m\u001b[0m\u001b[0m\n\u001b[0m\u001b[0;32m    905\u001b[0m             \u001b[1;32mexcept\u001b[0m \u001b[0mException\u001b[0m \u001b[1;32mas\u001b[0m \u001b[0me\u001b[0m\u001b[1;33m:\u001b[0m\u001b[1;33m\u001b[0m\u001b[1;33m\u001b[0m\u001b[0m\n\u001b[0;32m    906\u001b[0m                 \u001b[0mself\u001b[0m\u001b[1;33m.\u001b[0m\u001b[0mlog\u001b[0m\u001b[1;33m.\u001b[0m\u001b[0mwarning\u001b[0m\u001b[1;33m(\u001b[0m\u001b[1;34m\"Invalid Message:\"\u001b[0m\u001b[1;33m,\u001b[0m \u001b[0mexc_info\u001b[0m\u001b[1;33m=\u001b[0m\u001b[1;32mTrue\u001b[0m\u001b[1;33m)\u001b[0m\u001b[1;33m\u001b[0m\u001b[1;33m\u001b[0m\u001b[0m\n",
      "\u001b[1;31mKeyboardInterrupt\u001b[0m: Interrupted by user"
     ]
    }
   ],
   "source": [
    "N = int(input())\n",
    "potions = [[1],[2]]\n",
    "for i in range(N-2):\n",
    "    potion = list(map(int,input().split())) \n",
    "    potions.append(potion[1:])\n",
    "for i in range(2,N):\n",
    "    for j in range(2,N):\n",
    "        if i == j:\n",
    "            continue\n",
    "        if j+1 in potions[i] and i+1 in potions[j]:\n",
    "            potions[i] = []\n",
    "            potions[j] = []\n",
    "        if i+1 in potions[i]:\n",
    "            potions[i] = []\n",
    "\n",
    "\n",
    "Q = int(input())\n",
    "questions = []\n",
    "for i in range(Q):\n",
    "    question = list(map(int,input().split())) \n",
    "    questions.append(question)\n",
    "\n",
    "def simplepotion(potions):\n",
    "    for potion in potions[2:]:\n",
    "        if len(potion) == 0:\n",
    "            continue\n",
    "        for i in range(len(potion)-1,-1,-1):\n",
    "            if not (potion[i]==1 or potion[i]==2):\n",
    "                potion.extend(potions[potion[i]-1])\n",
    "                potion.pop(i)\n",
    "    return potions\n",
    "\n",
    "def countAB(potions):\n",
    "    counted = []\n",
    "    for potion in potions:\n",
    "        if len(potion) == 0:\n",
    "            counted.append([])\n",
    "            continue\n",
    "        a = 0\n",
    "        b = 0\n",
    "        for i in range(len(potion)):\n",
    "            if potion[i] == 1:\n",
    "                a += 1 \n",
    "            if potion[i] == 2:\n",
    "                b += 1 \n",
    "        counted.append([a,b])       \n",
    "    return counted\n",
    "   \n",
    "def able(questions):\n",
    "    res = ''\n",
    "    for q in questions:\n",
    "        if len(potions[q[2]-1]) == 0:\n",
    "            res += '0'\n",
    "            continue\n",
    "        if potions[q[2]-1][0] <= q[0] and potions[q[2]-1][1] <= q[1]:\n",
    "            res += '1'\n",
    "        else:\n",
    "            res += '0'\n",
    "    return res\n",
    "    \n",
    "potions = countAB(simplepotion(potions))\n",
    "print(able(questions))"
   ]
  },
  {
   "cell_type": "markdown",
   "metadata": {},
   "source": [
    "В известной компании Тындекс уже несколько лет работает очень популярный сервис Тындекс.Вода, занимающийся поливом людей, растений, зданий и всего остального, что можно полить без ущерба окружающим.\n",
    "\n",
    "Пользователь указывает, что ему необходимо полить и сколько литров воды он готов на это потратить, после чего на место выезжает специальная бригада. В итоге для компании каждый заказ можно представить тройкой чисел:\n",
    "\n",
    "- время Start, когда бригада приняла заказ и выехала;\n",
    "- время End, когда бригада осуществила заказ и освободилась;\n",
    "- итоговая стоимость заказа Cost.\n",
    "\n",
    "Для простоты обработки и хранения время задается одним целым числом, равным количеству минут, прошедших с начала запуска сервиса до искомого момента.\n",
    "\n",
    "Продолжительность заказа считается равной величине End - Start.\n",
    "\n",
    "Начальнику сервиса необходимо отчитаться перед вышестоящим начальством, поэтому он поручил вам несложную задачку — найти ответы на несколько запросов одного из двух типов:\n",
    "\n",
    "- Найти суммарную стоимость заказов, которые начались в заданный промежуток времени;\n",
    "- Найти суммарную продолжительность заказов, которые завершились в заданный промежуток времени;\n",
    "\n",
    "В обеих статистиках промежутки считаются отрезками: в промежуток от Start до End входят все величины Start, Start + 1, …, End - 1, End."
   ]
  },
  {
   "cell_type": "markdown",
   "metadata": {},
   "source": [
    "##### Формат ввода\n",
    "В первой строке расположено одно целое число N — количество заказов, осуществленных сервисом.\n",
    "\n",
    "Каждая из следующих N строк содержит информацию об одном заказе в формате Start End Cost — время начала и конца заказа и стоимость заказа соответственно.\n",
    "\n",
    "В следующей строке расположено одно целое число Q — количество запросов.\n",
    "\n",
    "Каждая из следующих Q строк содержит информацию об одном запросе в формате Start End Type — время начала и конца промежутка и тип запроса соответственно.\n",
    "\n",
    "Соответствие типов запроса следующее:\n",
    "\n",
    "- Найти суммарную стоимость заказов, которые начались в заданный промежуток времени;\n",
    "- Найти суммарную продолжительность заказов, которые завершились в заданный промежуток времени;\n",
    "\n",
    "##### Формат вывода\n",
    "В единственной строке через пробел выведите Q целых чисел — ответы на запросы в порядке их ввода."
   ]
  },
  {
   "cell_type": "code",
   "execution_count": 14,
   "metadata": {},
   "outputs": [
    {
     "name": "stdout",
     "output_type": "stream",
     "text": [
      "1\n",
      "10 100 1000\n",
      "6\n",
      "1 10 1\n",
      "1 10 2\n",
      "10 100 1\n",
      "10 100 2\n",
      "100 1000 1\n",
      "100 1000 2\n",
      "1000 0 1000 90 0 90\n"
     ]
    }
   ],
   "source": [
    "N = int(input())\n",
    "orders = []\n",
    "for i in range(N):\n",
    "    order = list(map(int,input().split())) \n",
    "    orders.append(order)\n",
    "Q = int(input())\n",
    "reqs = []\n",
    "for i in range(Q):\n",
    "    req = list(map(int,input().split())) \n",
    "    reqs.append(req)\n",
    "\n",
    "\n",
    "def cost(req, orders):\n",
    "    res = 0\n",
    "    for ord in orders:\n",
    "        if ord[0] >= req[0] and ord[0] <= req[1]:\n",
    "            res += ord[2]\n",
    "    return res\n",
    "\n",
    "def dur(req,orders):\n",
    "    res = 0\n",
    "    for ord in orders:\n",
    "        if ord[1] >= req[0] and ord[1] <= req[1]:\n",
    "            res += ord[1] - ord[0]\n",
    "    return res \n",
    "\n",
    "def request(reqs,orders):\n",
    "    answer = []\n",
    "    for req in reqs:\n",
    "        if req[2] == 1:\n",
    "            answer.append(cost(req,orders))\n",
    "        if req[2] == 2:\n",
    "            answer.append(dur(req,orders))\n",
    "    return answer\n",
    "\n",
    "print(*request(reqs,orders))"
   ]
  }
 ],
 "metadata": {
  "kernelspec": {
   "display_name": "Python 3",
   "language": "python",
   "name": "python3"
  },
  "language_info": {
   "codemirror_mode": {
    "name": "ipython",
    "version": 3
   },
   "file_extension": ".py",
   "mimetype": "text/x-python",
   "name": "python",
   "nbconvert_exporter": "python",
   "pygments_lexer": "ipython3",
   "version": "3.8.5"
  }
 },
 "nbformat": 4,
 "nbformat_minor": 4
}
