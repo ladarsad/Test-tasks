{
 "cells": [
  {
   "cell_type": "markdown",
   "metadata": {},
   "source": [
    "# Тренировочные задачи"
   ]
  },
  {
   "cell_type": "markdown",
   "metadata": {},
   "source": [
    "Телефонные номера в адресной книге мобильного телефона имеют один из следующих форматов: +7<код><номер>, 8<код><номер>, <номер>, где <номер> — это семь цифр, а <код> — это три цифры или три цифры в круглых скобках. Если код не указан, то считается, что он равен 495. Кроме того, в записи телефонного номера может стоять знак “-” между любыми двумя цифрами (см. пример). На данный момент в адресной книге телефона Васи записано всего три телефонных номера, и он хочет записать туда еще один. Но он не может понять, не записан ли уже такой номер в телефонной книге. Помогите ему! Два телефонных номера совпадают, если у них равны коды и равны номера. Например, +7(916)0123456 и 89160123456 — это один и тот же номер."
   ]
  },
  {
   "cell_type": "code",
   "execution_count": 4,
   "metadata": {},
   "outputs": [
    {
     "name": "stdout",
     "output_type": "stream",
     "text": [
      "YES\n",
      "YES\n",
      "NO\n"
     ]
    }
   ],
   "source": [
    "a='8(495)430-23-97'\n",
    "b='+7-4-9-5-43-023-97'\n",
    "c='4-3-0-2-3-9-7'\n",
    "d='8-495-430'\n",
    "\n",
    "def clear(number):\n",
    "    number = number.split('-')\n",
    "    number = ''.join(number)\n",
    "    number = number.replace('(', '') \n",
    "    number = number.replace(')', '')\n",
    "    number = number.replace('+7', '8')\n",
    "    if len(number)<11:\n",
    "        number = '8495'+number\n",
    "    return number\n",
    "\n",
    "def isnumber(a,number):\n",
    "    if a==number:\n",
    "        return('YES')\n",
    "    else:\n",
    "        return('NO')\n",
    "\n",
    "a = clear(a)\n",
    "b = clear(b)\n",
    "c = clear(c)\n",
    "d = clear(d)\n",
    "print(isnumber(a,b))\n",
    "print(isnumber(a,c))\n",
    "print(isnumber(a,d))\n"
   ]
  },
  {
   "cell_type": "markdown",
   "metadata": {},
   "source": [
    "В школе решили на один прямоугольный стол поставить два прямоугольных ноутбука. Ноутбуки нужно поставить так, чтобы их стороны были параллельны сторонам стола. Определите, какие размеры должен иметь стол, чтобы оба ноутбука на него поместились, и площадь стола была минимальна."
   ]
  },
  {
   "cell_type": "code",
   "execution_count": 71,
   "metadata": {},
   "outputs": [
    {
     "name": "stdout",
     "output_type": "stream",
     "text": [
      "0 0 1 1\n",
      "1 1\n"
     ]
    }
   ],
   "source": [
    "a,b,c,d = input().split()\n",
    "a = int(a)\n",
    "b = int(b)\n",
    "c = int(c)\n",
    "d = int(d)\n",
    "\n",
    "ac=a+c\n",
    "ad=a+d\n",
    "bc=b+c\n",
    "bd=b+d\n",
    "\n",
    "if min(ac,ad)==ac:\n",
    "    e1 = ac\n",
    "    f1 = max(b,d)\n",
    "else:\n",
    "    e1 = ad\n",
    "    f1 = max(b,c)\n",
    "s1 = e1 * f1\n",
    "\n",
    "if min(bc,bd)==bc:\n",
    "    e2 = bc\n",
    "    f2 = max(a,d)\n",
    "else:\n",
    "    e2 = bd\n",
    "    f2 = max(a,c)\n",
    "s2 = e2 * f2\n",
    "\n",
    "if min(s1,s2)==s1:\n",
    "    print(e1,f1)\n",
    "else:\n",
    "    print(e2,f2)"
   ]
  },
  {
   "cell_type": "markdown",
   "metadata": {},
   "source": [
    "В школе решили на один прямоугольный стол поставить два прямоугольных ноутбука. Ноутбуки нужно поставить так, чтобы их стороны были параллельны сторонам стола. Определите, какие размеры должен иметь стол, чтобы оба ноутбука на него поместились, и площадь стола была минимальна."
   ]
  },
  {
   "cell_type": "code",
   "execution_count": 78,
   "metadata": {},
   "outputs": [
    {
     "name": "stdout",
     "output_type": "stream",
     "text": [
      "10 2 2 10\n",
      "10 4\n"
     ]
    }
   ],
   "source": [
    "a,b,c,d = input().split()\n",
    "a = int(a)\n",
    "b = int(b)\n",
    "c = int(c)\n",
    "d = int(d)\n",
    "def table(a,b,c,d):\n",
    "    e = max(a,b,c,d)\n",
    "    if e == a:\n",
    "        print(e,b+min(c,d))\n",
    "        return\n",
    "    if e == b:\n",
    "        print(e,a+min(c,d))\n",
    "        return\n",
    "    if e == c:\n",
    "        print(e,d+min(a,b))\n",
    "        return\n",
    "    if e == d:\n",
    "        print(e,c+min(a,b))\n",
    "    return\n",
    "table(a,b,c,d)"
   ]
  },
  {
   "cell_type": "markdown",
   "metadata": {},
   "source": [
    "Имеется N кг металлического сплава. Из него изготавливают заготовки массой K кг каждая. После этого из каждой заготовки вытачиваются детали массой M кг каждая (из каждой заготовки вытачивают максимально возможное количество деталей). Если от заготовок после этого что-то остается, то этот материал возвращают к началу производственного цикла и сплавляют с тем, что осталось при изготовлении заготовок. Если того сплава, который получился, достаточно для изготовления хотя бы одной заготовки, то из него снова изготавливают заготовки, из них – детали и т.д. Напишите программу, которая вычислит, какое количество деталей может быть получено по этой технологии из имеющихся исходно N кг сплава."
   ]
  },
  {
   "cell_type": "code",
   "execution_count": null,
   "metadata": {},
   "outputs": [],
   "source": [
    "n,k,m = input().split()\n",
    "n=int(n)\n",
    "k=int(k)\n",
    "m=int(m)\n",
    "kcount=0\n",
    "mcount=0\n",
    "if k>=m:\n",
    "    mink = k // m\n",
    "    while n>=k:\n",
    "        kcount = n // k\n",
    "        n = n % k\n",
    "        mcount += kcount * mink\n",
    "        n += (k - m  * mink) * kcount \n",
    "        kcount = 0\n",
    "print(mcount)"
   ]
  },
  {
   "cell_type": "markdown",
   "metadata": {},
   "source": [
    "За многие годы заточения узник замка Иф проделал в стене прямоугольное отверстие размером D × E. Замок Иф сложен из кирпичей, размером A × B × C. Определите, сможет ли узник выбрасывать кирпичи в море через это отверстие, если стороны кирпича должны быть параллельны сторонам отверстия."
   ]
  },
  {
   "cell_type": "code",
   "execution_count": 60,
   "metadata": {},
   "outputs": [
    {
     "name": "stdout",
     "output_type": "stream",
     "text": [
      "3\n",
      "7\n",
      "1\n",
      "2\n",
      "3\n",
      "YES\n"
     ]
    }
   ],
   "source": [
    "a = input()\n",
    "b = input()\n",
    "c = input()\n",
    "d = input()\n",
    "e = input()\n",
    "\n",
    "def mins(a,b):\n",
    "    if a <= b:\n",
    "        return(a,b)\n",
    "    return(b,a)\n",
    "\n",
    "d,e = mins(d,e)\n",
    "a,b = mins(a,b)\n",
    "b,c = mins(b,c)\n",
    "a,b = mins(a,b)\n",
    "\n",
    "if a<=d and b<=e:\n",
    "    print('YES')\n",
    "else:\n",
    "    print('NO')"
   ]
  },
  {
   "cell_type": "markdown",
   "metadata": {},
   "source": [
    "По последовательности чисел во входных данных определите ее вид:\n",
    "\n",
    "- CONSTANT – последовательность состоит из одинаковых значений\n",
    "- ASCENDING – последовательность является строго возрастающей\n",
    "- WEAKLY ASCENDING – последовательность является нестрого возрастающей\n",
    "- DESCENDING – последовательность является строго убывающей\n",
    "- WEAKLY DESCENDING – последовательность является нестрого убывающей\n",
    "- RANDOM – последовательность не принадлежит ни к одному из вышеупомянутых типов"
   ]
  },
  {
   "cell_type": "code",
   "execution_count": 97,
   "metadata": {},
   "outputs": [
    {
     "name": "stdout",
     "output_type": "stream",
     "text": [
      "-1\n",
      "-2\n",
      "-3\n",
      "-2000000000\n",
      "False False False True True\n",
      "DESCENDING\n"
     ]
    }
   ],
   "source": [
    "def seq():\n",
    "    CONST = True\n",
    "    ASC = True\n",
    "    WEAKASC = True\n",
    "    DESC = True\n",
    "    WEAKDESC = True\n",
    "    b = int(input())\n",
    "\n",
    "    while 1:\n",
    "        a = int(input())\n",
    "        if a == -2000000000:\n",
    "            break\n",
    "        if a == b:\n",
    "            ASC = False\n",
    "            DESC = False\n",
    "        elif a > b:\n",
    "            DESC = False\n",
    "            WEAKDESC = False\n",
    "            CONST = False\n",
    "        elif a < b:\n",
    "            ASC = False\n",
    "            WEAKASC = False\n",
    "            CONST = False\n",
    "        b = a\n",
    "\n",
    "    if CONST:\n",
    "        return('CONSTANT')\n",
    "    elif ASC:\n",
    "        return('ASCENDING')\n",
    "    elif DESC:\n",
    "        return('DESCENDING')\n",
    "    elif WEAKASC:\n",
    "        return('WEAKLY ASCENDING')\n",
    "    elif WEAKDESC:\n",
    "        return('WEAKLY DESCENDING')\n",
    "    else:\n",
    "        return('RANDOM')\n",
    "\n",
    "print(seq())"
   ]
  },
  {
   "cell_type": "markdown",
   "metadata": {},
   "source": [
    "К сожалению, после чемпионата потерялись записи с фамилиями участников, остались только записи о длине броска в том порядке, в котором их совершали участники.\n",
    "\n",
    "Трактиорист Василий помнит три факта:\n",
    "\n",
    "1) Число метров, на которое он метнул лепешку, оканчивалось на 5\n",
    "\n",
    "2) Один из победителей чемпионата метал лепешку до Василия\n",
    "\n",
    "3) Участник, метавший лепешку сразу после Василия, метнул ее на меньшее количество метров\n",
    "\n",
    "Будем считать, что участник соревнования занял k-е место, если ровно (k − 1) участников чемпионата метнули лепешку строго дальше, чем он.\n",
    "\n",
    "Какое максимально высокое место мог занять Василий?"
   ]
  },
  {
   "cell_type": "code",
   "execution_count": 118,
   "metadata": {},
   "outputs": [
    {
     "name": "stdout",
     "output_type": "stream",
     "text": [
      "7\n",
      "10 20 15 10 30 5 1\n",
      "[30, 20, 15, 10, 10, 5, 1]\n",
      "[5]\n",
      "6\n"
     ]
    }
   ],
   "source": [
    "n = int(input())\n",
    "a = list(map(int,input().split()))\n",
    "def place(a,n):\n",
    "    answers= []\n",
    "    for i in range(len(a)-2):\n",
    "        if a[i] == max(a) and a[i+1] % 10 == 5 and a[i+2] < a[i+1]:\n",
    "            answers.append(a[i+1])\n",
    "    #a = list(set(a))\n",
    "    a.sort(reverse=True)\n",
    "    for i in range(len(a)):\n",
    "        if a[i] == max(answers):\n",
    "            return i+1\n",
    "    return 0\n",
    "print(place(a,n))        "
   ]
  },
  {
   "cell_type": "markdown",
   "metadata": {},
   "source": [
    "Последовательность чисел назовем симметричной, если она одинаково читается как слева направо, так и справа налево. Например, следующие последовательности являются симметричными:\n",
    "\n",
    "1 2 3 4 5 4 3 2 1\n",
    "\n",
    "1 2 1 2 2 1 2 1\n",
    "\n",
    "Вашей программе будет дана последовательность чисел. Требуется определить, какое минимальное количество и каких чисел надо приписать в конец этой последовательности, чтобы она стала симметричной."
   ]
  },
  {
   "cell_type": "code",
   "execution_count": 125,
   "metadata": {},
   "outputs": [
    {
     "name": "stdout",
     "output_type": "stream",
     "text": [
      "5\n",
      "1 2 3 4 5\n",
      "4\n",
      "4 3 2 1\n"
     ]
    }
   ],
   "source": [
    "n = int(input())\n",
    "a = list(map(int,input().split()))\n",
    "def sim(seq):\n",
    "    for start in range(len(seq)):\n",
    "        i = start \n",
    "        j = len(seq)-1\n",
    "        while i<len(seq) and j>=0 and seq[i]==seq[j] and i<=j:\n",
    "            i+=1\n",
    "            j-=1\n",
    "        if i>j:\n",
    "            ans = []\n",
    "            for i in range(start - 1, -1, -1):\n",
    "                ans.append(seq[i])\n",
    "            return ans\n",
    "ans = sim(a)\n",
    "print(len(ans))\n",
    "print(*ans)"
   ]
  },
  {
   "cell_type": "markdown",
   "metadata": {},
   "source": [
    "Во входном файле записан текст. Словом считается последовательность непробельных символов идущих подряд, слова разделены одним или большим числом пробелов или символами конца строки. Для каждого слова из этого текста подсчитайте, сколько раз оно встречалось в этом тексте ранее."
   ]
  },
  {
   "cell_type": "code",
   "execution_count": 141,
   "metadata": {},
   "outputs": [
    {
     "name": "stdout",
     "output_type": "stream",
     "text": [
      "She sells sea shells on the sea shore; The shells that she sells are sea shells I'm sure. So if she sells sea shells on the sea shore, I'm sure that the shells are sea shore shells.\n",
      "0 0 0 0 0 0 1 0 0 1 0 0 1 0 2 2 0 0 0 0 1 2 3 3 1 1 4 0 1 0 1 2 4 1 5 0 0\n"
     ]
    }
   ],
   "source": [
    "a = list(input().split())\n",
    "words = {}\n",
    "out = []\n",
    "for word in a:\n",
    "    if word in words:\n",
    "        out.append(words[word])\n",
    "        words[word] += 1\n",
    "    else:\n",
    "        out.append(0)\n",
    "        words[word] = 1\n",
    "print(*out)"
   ]
  },
  {
   "cell_type": "markdown",
   "metadata": {},
   "source": [
    "Дан текст. Выведите слово, которое в этом тексте встречается чаще всего. Если таких слов несколько, выведите то, которое меньше в лексикографическом порядке."
   ]
  },
  {
   "cell_type": "code",
   "execution_count": 150,
   "metadata": {},
   "outputs": [
    {
     "name": "stdout",
     "output_type": "stream",
     "text": [
      "oh you touch my tralala mmm my ding ding dong\n",
      "ding\n"
     ]
    }
   ],
   "source": [
    "a = list(input().split())\n",
    "words = {}\n",
    "for word in a:\n",
    "    if word in words:\n",
    "        words[word] += 1\n",
    "    else:\n",
    "        words[word] = 1\n",
    "max_value = max(words.values())\n",
    "final_dict = {k: v for k, v in words.items() if v == max_value}    \n",
    "print(min(final_dict))"
   ]
  },
  {
   "cell_type": "markdown",
   "metadata": {},
   "source": [
    "Дана база данных о продажах некоторого интернет-магазина. Каждая строка входного файла представляет собой запись вида Покупатель товар количество, где Покупатель — имя покупателя (строка без пробелов), товар — название товара (строка без пробелов), количество — количество приобретенных единиц товара. Создайте список всех покупателей, а для каждого покупателя подсчитайте количество приобретенных им единиц каждого вида товаров."
   ]
  },
  {
   "cell_type": "code",
   "execution_count": null,
   "metadata": {},
   "outputs": [],
   "source": [
    "\n",
    "mydict = {}\n",
    "with open(\"input.txt\") as file:\n",
    "    for item in file:\n",
    "    a = list(item.split())\n",
    "    if a[0] in mydict:\n",
    "        if a[1] in mydict[a[0]]:\n",
    "            mydict[a[0]][a[1]] += int(a[2])\n",
    "        else:\n",
    "            mydict[a[0]][a[1]] = int(a[2])\n",
    "    else:\n",
    "        mydict[a[0]][a[1]] = int(a[2])\n",
    "\n",
    "for key in sorted(mydict):\n",
    "    print \"%s: %s\" % (key, mydict[key]) "
   ]
  },
  {
   "cell_type": "markdown",
   "metadata": {},
   "source": [
    "Глеб обожает шоппинг. Как-то раз он загорелся идеей подобрать себе майку и штаны так, чтобы выглядеть в них максимально стильно. В понимании Глеба стильность одежды тем больше, чем меньше разница в цвете элементов его одежды.\n",
    "\n",
    "В наличии имеется N (1 ≤ N ≤ 100 000) маек и M (1 ≤ M ≤ 100 000) штанов, про каждый элемент известен его цвет (целое число от 1 до 10 000 000). Помогите Глебу выбрать одну майку и одни штаны так, чтобы разница в их цвете была как можно меньше."
   ]
  },
  {
   "cell_type": "code",
   "execution_count": 157,
   "metadata": {},
   "outputs": [
    {
     "name": "stdout",
     "output_type": "stream",
     "text": [
      "(2, 3)\n"
     ]
    }
   ],
   "source": [
    "def color(M,N):\n",
    "    f = 0\n",
    "    min = abs(M[0] - N[0])\n",
    "    indM = 0\n",
    "    indN = 0\n",
    "    for j in range(len(M)):\n",
    "        for i in range(f,len(N)):\n",
    "            if abs(M[j] - N[i]) < min:\n",
    "                min = abs(M[j] - N[i])\n",
    "                indM = j\n",
    "                indN = i\n",
    "                f = i\n",
    "                break\n",
    "    return M[indM],N[indN]\n",
    "\n",
    "\n",
    "print(color([1,2,4,6],[3,5,8]))"
   ]
  }
 ],
 "metadata": {
  "kernelspec": {
   "display_name": "Python 3",
   "language": "python",
   "name": "python3"
  },
  "language_info": {
   "codemirror_mode": {
    "name": "ipython",
    "version": 3
   },
   "file_extension": ".py",
   "mimetype": "text/x-python",
   "name": "python",
   "nbconvert_exporter": "python",
   "pygments_lexer": "ipython3",
   "version": "3.8.5"
  }
 },
 "nbformat": 4,
 "nbformat_minor": 4
}
